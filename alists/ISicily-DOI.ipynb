{
 "cells": [
  {
   "cell_type": "code",
   "execution_count": null,
   "metadata": {
    "scrolled": true
   },
   "outputs": [],
   "source": [
    "# export the URI and DOI of each file in a csv\n",
    "# NB! change file paths as appropriate\n",
    "\n",
    "import glob\n",
    "import csv\n",
    "import re\n",
    "\n",
    "uri_dict = {}\n",
    "\n",
    "for file in glob.glob(\"/Users/simonastoyanova/Desktop/ISicily/inscriptions/*.xml\"):\n",
    "        infile = open(file, \"r\")\n",
    "        contents = infile.read()\n",
    "        \n",
    "        # get content of the first instance of `<idno type=\"URI\">`\n",
    "        uris = re.findall('<idno type=\"URI\">(.*?)</idno>', contents)[0]\n",
    "        \n",
    "        \n",
    "        # get the value of the last instance of `<idno type=\"DOI\">`\n",
    "        dois = re.findall('<idno type=\"DOI\" when=\"(\\d{4}-\\d{2}-\\d{2})\">(.*?)</idno>', contents)[-1]\n",
    "        doi = dois[1]\n",
    "        \n",
    "        # populate empty dictionary with uris as keys and dois as values\n",
    "        uri_dict.update({uris : doi})\n",
    "        \n",
    "        \n",
    "# test-sort the dictionary by key        \n",
    "print(sorted(uri_dict))\n",
    "\n",
    "        \n",
    "# write the dictionary into a csv file\n",
    "with open(\"/Users/simonastoyanova/Desktop/DOI-test/isicily-doi.csv\", 'w') as myfile:\n",
    "    wr = csv.writer(myfile, quoting=csv.QUOTE_ALL)\n",
    "    for key, value in sorted(uri_dict.items()):\n",
    "        wr.writerow([key, value])\n"
   ]
  },
  {
   "cell_type": "code",
   "execution_count": null,
   "metadata": {},
   "outputs": [],
   "source": []
  }
 ],
 "metadata": {
  "kernelspec": {
   "display_name": "Python 3",
   "language": "python",
   "name": "python3"
  },
  "language_info": {
   "codemirror_mode": {
    "name": "ipython",
    "version": 3
   },
   "file_extension": ".py",
   "mimetype": "text/x-python",
   "name": "python",
   "nbconvert_exporter": "python",
   "pygments_lexer": "ipython3",
   "version": "3.9.0"
  }
 },
 "nbformat": 4,
 "nbformat_minor": 4
}
